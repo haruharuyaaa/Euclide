{
  "nbformat": 4,
  "nbformat_minor": 0,
  "metadata": {
    "colab": {
      "provenance": [],
      "toc_visible": true
    },
    "kernelspec": {
      "name": "python3",
      "display_name": "Python 3"
    },
    "language_info": {
      "name": "python"
    }
  },
  "cells": [
    {
      "cell_type": "code",
      "source": [
        "import math"
      ],
      "metadata": {
        "id": "4qELDOSPknEE"
      },
      "execution_count": 32,
      "outputs": []
    },
    {
      "cell_type": "code",
      "source": [
        "points = [(4, 11), (4, 14)]"
      ],
      "metadata": {
        "id": "lJmZV0gFkn_C"
      },
      "execution_count": 33,
      "outputs": []
    },
    {
      "cell_type": "code",
      "source": [
        "def euclideanDistance(point1, point2):\n",
        "  return math.sqrt((point2[0]) ** 2 +(point2[1] - point1[1]) ** 2)"
      ],
      "metadata": {
        "id": "n7VIj3JYk4PM"
      },
      "execution_count": 38,
      "outputs": []
    },
    {
      "cell_type": "code",
      "source": [
        "distanes = []\n",
        "for i in range(len(points)):\n",
        "  for j in range(i + 1, len(points)):\n",
        "    distances.append(euclideanDistance(points[1], points[j]))"
      ],
      "metadata": {
        "id": "2uQ7m_DFlAM2"
      },
      "execution_count": 39,
      "outputs": []
    },
    {
      "cell_type": "code",
      "source": [
        "print(min(distances))"
      ],
      "metadata": {
        "colab": {
          "base_uri": "https://localhost:8080/"
        },
        "id": "xOAWztSkl_nT",
        "outputId": "d1e3ccbe-0649-4ca6-94ab-66967331309c"
      },
      "execution_count": 40,
      "outputs": [
        {
          "output_type": "stream",
          "name": "stdout",
          "text": [
            "3.0\n"
          ]
        }
      ]
    }
  ]
}